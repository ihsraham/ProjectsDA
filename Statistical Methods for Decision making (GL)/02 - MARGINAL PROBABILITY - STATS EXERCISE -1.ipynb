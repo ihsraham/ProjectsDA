{
 "cells": [
  {
   "cell_type": "markdown",
   "metadata": {
    "colab_type": "text",
    "id": "24ys2jr1qDS9"
   },
   "source": [
    "## Simple, Joint, Marginal probability "
   ]
  },
  {
   "cell_type": "markdown",
   "metadata": {},
   "source": [
    "### EXERCISE"
   ]
  },
  {
   "cell_type": "markdown",
   "metadata": {
    "colab_type": "text",
    "id": "x6ai-ycAqDS9"
   },
   "source": [
    "### Simple Probability refers to the probability of occurrence of a simple event"
   ]
  },
  {
   "cell_type": "markdown",
   "metadata": {
    "colab_type": "text",
    "id": "QAU9pPqlqDS-"
   },
   "source": [
    "Probability of an event X, P(X) is given by\n",
    "$P(X) = \\frac{Number \\quad of \\quad observations \\quad in \\quad favor \\quad of \\quad an \\quad event \\quad X}{Total \\quad Number \\quad of \\quad observations}$ "
   ]
  },
  {
   "cell_type": "markdown",
   "metadata": {
    "colab_type": "text",
    "id": "YRwoslpcqDS_"
   },
   "source": [
    "The data collected by an Advertisement agency has revealed that out of 2800 visitors, 56 visitors clicked on 1 Advertisement, 30 clicked on 2 advertisements and 14 clicked on 3 advertisements and the remaining did not click on any advertisement. \n",
    "\n",
    "Calculate\n",
    "* a) The probability that a visitor to the website will not click on any  advertisement.\n",
    "* b) The probability that a visitor to the website will click on an advertisement.\n",
    "* c) The probability that a visitor to the website will click on more than one advertisement."
   ]
  },
  {
   "cell_type": "code",
   "execution_count": 1,
   "metadata": {},
   "outputs": [
    {
     "data": {
      "text/plain": [
       "0.9642857142857143"
      ]
     },
     "execution_count": 1,
     "metadata": {},
     "output_type": "execute_result"
    }
   ],
   "source": [
    "# Write a code here \n",
    "p1 = 56/2800\n",
    "p2 = 30/2800\n",
    "p3 = 14/2800\n",
    "p0 = 1 - p1 - p2 - p3\n",
    "p0 # a)"
   ]
  },
  {
   "cell_type": "code",
   "execution_count": 2,
   "metadata": {},
   "outputs": [
    {
     "data": {
      "text/plain": [
       "0.0357142857142857"
      ]
     },
     "execution_count": 2,
     "metadata": {},
     "output_type": "execute_result"
    }
   ],
   "source": [
    "# b)\n",
    "1-p0"
   ]
  },
  {
   "cell_type": "code",
   "execution_count": 3,
   "metadata": {},
   "outputs": [
    {
     "data": {
      "text/plain": [
       "0.015714285714285698"
      ]
     },
     "execution_count": 3,
     "metadata": {},
     "output_type": "execute_result"
    }
   ],
   "source": [
    "# c)\n",
    "1-p0-p1"
   ]
  },
  {
   "cell_type": "markdown",
   "metadata": {
    "colab_type": "text",
    "id": "wmmquMjaqDTL"
   },
   "source": [
    "### Joint Probability refers to the probability of occurrence involving two or more events"
   ]
  },
  {
   "cell_type": "markdown",
   "metadata": {},
   "source": [
    "### EXERCISE"
   ]
  },
  {
   "cell_type": "markdown",
   "metadata": {
    "colab_type": "text",
    "id": "-Fjb0UAnqDTM"
   },
   "source": [
    "Let A and B be the two events in a sample space. Then the joint probability if the two events denoted by P(A $\\cap$ B), is given by \n",
    "$P(A \\cap B) = \\frac{Number \\quad of \\quad observations \\quad in \\quad A \\cap B } {Total \\quad Number \\quad of \\quad observations}$ "
   ]
  },
  {
   "cell_type": "markdown",
   "metadata": {
    "colab_type": "text",
    "id": "hsdmqBs6qDTM"
   },
   "source": [
    "At a popular company service center, a total of 100 complaints were received. 80 customers complained about late delivery of the items and 60 complained about poor product quality.\n",
    "\n",
    "* a) Calculate the probability that a customer complaint will be about both product quality and late delivery.\n",
    "* b) What is the probability that a complaint will be only about  late delivery?"
   ]
  },
  {
   "cell_type": "markdown",
   "metadata": {
    "colab_type": "text",
    "id": "SNMySIutqDTP"
   },
   "source": [
    "Probability that a customer complaint will be about both product quality and late delivery = $P(L \\cap Q)$"
   ]
  },
  {
   "cell_type": "markdown",
   "metadata": {
    "colab_type": "text",
    "id": "PSIKrcUUqDTQ"
   },
   "source": [
    " $P(L \\cap Q) =  \\frac{n(L \\cap Q)} {Total \\quad Number \\quad of \\quad observations}$ "
   ]
  },
  {
   "cell_type": "code",
   "execution_count": 4,
   "metadata": {},
   "outputs": [
    {
     "data": {
      "text/plain": [
       "0.3999999999999999"
      ]
     },
     "execution_count": 4,
     "metadata": {},
     "output_type": "execute_result"
    }
   ],
   "source": [
    "# Write a code here :\n",
    "PL = 80/100\n",
    "PQ = 60/100\n",
    "PLnQ = PL + PQ - 1\n",
    "PLnQ #a"
   ]
  },
  {
   "cell_type": "code",
   "execution_count": 6,
   "metadata": {},
   "outputs": [
    {
     "data": {
      "text/plain": [
       "0.40000000000000013"
      ]
     },
     "execution_count": 6,
     "metadata": {},
     "output_type": "execute_result"
    }
   ],
   "source": [
    "PL-PLnQ #b"
   ]
  },
  {
   "cell_type": "markdown",
   "metadata": {
    "colab_type": "text",
    "id": "WpgA1ZRzqDTW"
   },
   "source": [
    "### EXERCISE"
   ]
  },
  {
   "cell_type": "markdown",
   "metadata": {
    "colab_type": "text",
    "id": "9KxPS_6hqDTX"
   },
   "source": [
    "|Planned to purchase Apple iPhone Xs Max | Actually placed an order for Apple iPhone Xs Max- Yes |  Actually placed an order for Apple iPhone Xs Max - No | Total |\n",
    "| ------------- | ------------ | ---------- | -----|\n",
    "| Yes | 400 | 100 | 500 |\n",
    "| No | 200 | 1300 | 1500 |\n",
    "| Total | 600 | 1400 | 2000 |\n",
    "\n",
    "Calculate the joint probability of the people who planned to purchase and actually placed an order.\n"
   ]
  },
  {
   "cell_type": "markdown",
   "metadata": {
    "colab_type": "text",
    "id": "zD_w0hMuqDTa"
   },
   "source": [
    "You observe from the above table, that 400 people planned to purchase and actually placed an order for Apple iPhone Xs Max is 400 out of 2000 people."
   ]
  },
  {
   "cell_type": "code",
   "execution_count": 7,
   "metadata": {},
   "outputs": [
    {
     "data": {
      "text/plain": [
       "0.2"
      ]
     },
     "execution_count": 7,
     "metadata": {},
     "output_type": "execute_result"
    }
   ],
   "source": [
    "# Write code here\n",
    "400/2000\n"
   ]
  },
  {
   "cell_type": "markdown",
   "metadata": {
    "colab_type": "text",
    "id": "GL5KIemZqDTd"
   },
   "source": [
    "### Marginal probability refers to the probability of an event without any condition"
   ]
  },
  {
   "cell_type": "markdown",
   "metadata": {},
   "source": [
    "### EXERCISE"
   ]
  },
  {
   "cell_type": "markdown",
   "metadata": {
    "colab_type": "text",
    "id": "4h1jXJqEqDTe"
   },
   "source": [
    "P(A) = P(A and $B_{1}$) + P(A and $B_{2}$) + P(A and $B_{3}$) + ... + P(A and $B_{k}$) \n",
    "where $B_{1}$, $B_{2}$, $B_{3}$, ..., $B_{k}$ are k mutually exclusive and collectively exhaustive events, defined as follows:\n",
    "\n",
    "* Two events are mutually exclusive if both the events cannot occur simultaneously.\n",
    "* A set of events are collectively exhaustive if one of the events must occur."
   ]
  },
  {
   "cell_type": "markdown",
   "metadata": {
    "colab_type": "text",
    "id": "xswYJohGqDTf"
   },
   "source": [
    "Use the purchase of **Apple iPhone Xs Max** table.\n",
    "What is the probability of planned to purchase **Apple iPhone Xs Max**?"
   ]
  },
  {
   "cell_type": "code",
   "execution_count": 8,
   "metadata": {},
   "outputs": [
    {
     "data": {
      "text/plain": [
       "0.25"
      ]
     },
     "execution_count": 8,
     "metadata": {},
     "output_type": "execute_result"
    }
   ],
   "source": [
    "# Write code here\n",
    "400/2000 + 100/2000\n"
   ]
  },
  {
   "cell_type": "code",
   "execution_count": null,
   "metadata": {},
   "outputs": [],
   "source": []
  }
 ],
 "metadata": {
  "colab": {
   "name": "day1_Statistics.ipynb",
   "provenance": [],
   "version": "0.3.2"
  },
  "kernelspec": {
   "display_name": "Python 3",
   "language": "python",
   "name": "python3"
  },
  "language_info": {
   "codemirror_mode": {
    "name": "ipython",
    "version": 3
   },
   "file_extension": ".py",
   "mimetype": "text/x-python",
   "name": "python",
   "nbconvert_exporter": "python",
   "pygments_lexer": "ipython3",
   "version": "3.7.7"
  }
 },
 "nbformat": 4,
 "nbformat_minor": 1
}
