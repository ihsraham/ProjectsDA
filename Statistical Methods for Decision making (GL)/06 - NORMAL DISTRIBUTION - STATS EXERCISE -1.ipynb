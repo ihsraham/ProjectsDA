{
 "cells": [
  {
   "cell_type": "markdown",
   "metadata": {
    "colab_type": "text",
    "id": "KXI2imJXqDVu"
   },
   "source": [
    "### Normal Distribution"
   ]
  },
  {
   "cell_type": "markdown",
   "metadata": {
    "colab_type": "text",
    "id": "vib6WAboqDVv"
   },
   "source": [
    "* One of the most popular continuous distribution in Analytics field.\n",
    "* Normal distribution is observed across many naturally occurring measures such as birth weight, height and intelligence etc"
   ]
  },
  {
   "cell_type": "markdown",
   "metadata": {
    "colab_type": "text",
    "id": "wLcEnJIsqDVv"
   },
   "source": [
    "#### Probability Density Function"
   ]
  },
  {
   "cell_type": "markdown",
   "metadata": {
    "colab_type": "text",
    "id": "Btjzxl2uqDVx"
   },
   "source": [
    "f(x) = $\\frac {1}{\\sigma\\sqrt(2 \\pi)} e^\\frac {-(x-\\mu^2)}{2\\sigma^2}$"
   ]
  },
  {
   "cell_type": "markdown",
   "metadata": {
    "colab_type": "text",
    "id": "CFdOVuLgqDVx"
   },
   "source": [
    "Where\n",
    "* f(x) is used to represent a probability density function\n",
    "* x is any value of the continuous variable, where -∞ < x < ∞\n",
    "* e denotes the mathematical constant approximated by 2.71828\n",
    "* Π is a mathematical constant approximated by 3.14159\n",
    "* μ and σ are the mean and standard deviation of the normal distribution\n"
   ]
  },
  {
   "cell_type": "markdown",
   "metadata": {
    "colab_type": "text",
    "id": "v4ZysEWeqDVx"
   },
   "source": [
    "For a continuous function, the probability density function is the probability that the value has the value x. \n",
    "Since for continuous distributions the probability at a single point is zero, this is expressed in terms of an integral of its probability density function\n",
    "P(X<= x) = F(x) = \n",
    "$\\int_{-\\infty}^xf(t)dt$\n"
   ]
  },
  {
   "cell_type": "markdown",
   "metadata": {
    "colab_type": "text",
    "id": "rBfw5EOsqDVx"
   },
   "source": [
    "Standardize normal variable\n",
    "Compute Z by subtracting the mean, mu from a normally distributed variable, divide by the standard deviation, sigma.\n",
    "Z = (X - μ) / σ \n",
    "Z is in standard units. \n",
    "Z ~ N(0,1) and the variable, Z always has mean 0 and standard deviation 1"
   ]
  },
  {
   "cell_type": "markdown",
   "metadata": {
    "colab_type": "text",
    "id": "kI5gAXIHqDVy"
   },
   "source": [
    "Its pdf is given by\n",
    "\n",
    "fZ(z) = $\\frac{1}{ √2Π} {exp \\frac {-z2} {2}}$\n",
    "\n",
    "for all z $\\in R$\n",
    "\n",
    "The (1 / √2Π ) is there to make sure that the area under the PDF is 1."
   ]
  },
  {
   "cell_type": "markdown",
   "metadata": {
    "colab_type": "text",
    "id": "0JcK6Bf_qDVz"
   },
   "source": [
    "* For a normal distribution, mu is the location parameter, which locates (centre) the distribution on the horizontal axis.\n",
    "* Sigma is the scale parameter, which defines the spread of the normal distribution.\n",
    "* Normal distribution has no shape parameter since all the normal distribution curves have bell shape and are symmetrical. \n"
   ]
  },
  {
   "cell_type": "markdown",
   "metadata": {
    "colab_type": "text",
    "id": "BimjJgsOqDV0"
   },
   "source": [
    "### Properties\n",
    "1. Theoretical normal density functions are defined between -∞ and ∞\n",
    "2. There are two parameters, location (μ which is the mean) and scale (σ which is standard deviation).\n",
    "3. It has a symmetrical (bell shape) around the mean. mean = median = mode\n",
    "4. Areas between specific values are measured in terms of μ and σ\n",
    "5. Any linear transformation if a normal random variable is also normal random variable.\n",
    "6. If X1 is an independent normal random variable with mean μ1 and variance $\\sigma1^2$ and \n",
    "      X2 is another independent normal random variable with mean μ2 and$\\sigma2^2$, \n",
    "then X1 + X2 is also a normal distribution with mean μ1 + μ2 and variance $\\sigma1^2$ + $\\sigma2^2$ "
   ]
  },
  {
   "cell_type": "markdown",
   "metadata": {
    "colab_type": "text",
    "id": "EUDRbGd1qDV0"
   },
   "source": [
    "| Value of the random variable | Area under the normal distribution (CDF) |\n",
    "| --------------------------------- | --------------------------|\n",
    "| $\\mu - \\sigma \\leq x \\leq \\mu + \\sigma$ | 0.6828 |\n",
    "| $\\mu - 2\\sigma \\leq x \\leq \\mu + 2\\sigma$ | 0.9545 |\n",
    "| $\\mu - 3\\sigma \\leq x \\leq \\mu + 3\\sigma$ | 0.9974 |"
   ]
  },
  {
   "cell_type": "markdown",
   "metadata": {
    "colab_type": "text",
    "id": "Ou1lqs53qDV0"
   },
   "source": [
    "### Some important functions in python for solving Normal Distribution problems\n",
    "\n",
    "#### 1. Cumulative Density Function (cdf)\n",
    "\n",
    "1. scipy.stats.norm.cdf(z)                 # Here z is an attribute\n",
    "\n",
    "2. stats.norm.cdf(z2) – stats.norm.cdf(z1) # Here z is an attribute\n",
    "\n",
    "3. stats.norm.isf(0.99) # Inverse Survival function gives the value given a probability"
   ]
  },
  {
   "cell_type": "markdown",
   "metadata": {
    "colab_type": "text",
    "id": "1Qf7EJNtqDV1"
   },
   "source": [
    "### EXERCISE"
   ]
  },
  {
   "cell_type": "markdown",
   "metadata": {
    "colab_type": "text",
    "id": "UGUMto8wqDV1"
   },
   "source": [
    "A survey on use of smart phones in India was conducted and it is observed the smart phone users spend 68 minutes in a day on average in sending messages and the corresponding standard deviation is 12 minutes. \n",
    "\n",
    "* Assume that the time spent in sending messages follows a normal distribution. \n",
    "* a) What proportion of the smart phone users are spending more than 90 minutes in sending messages daily?\n",
    "* b) What proportion of customers are spending less than 20 minutes?\n",
    "* c) What proportion of customers are spending between 50 minutes and 100 minutes?"
   ]
  },
  {
   "cell_type": "markdown",
   "metadata": {
    "colab_type": "text",
    "id": "WX6tZ8FxqDV2"
   },
   "source": [
    "### Compute Z by subtracting the mean, mu from a normally distributed variable, divide by the standard deviation, sigma"
   ]
  },
  {
   "cell_type": "code",
   "execution_count": 1,
   "metadata": {},
   "outputs": [],
   "source": [
    "import numpy as np\n",
    "import scipy.stats as stats\n",
    "import matplotlib.pyplot as plt"
   ]
  },
  {
   "cell_type": "code",
   "execution_count": 2,
   "metadata": {},
   "outputs": [
    {
     "data": {
      "text/plain": [
       "0.03337650758481725"
      ]
     },
     "execution_count": 2,
     "metadata": {},
     "output_type": "execute_result"
    }
   ],
   "source": [
    "# Write code here\n",
    "#more than 90 minutes in sending messages daily\n",
    "z = (90-68)/12\n",
    "1-stats.norm.cdf(z)"
   ]
  },
  {
   "cell_type": "code",
   "execution_count": 3,
   "metadata": {},
   "outputs": [
    {
     "data": {
      "text/plain": [
       "3.167124183311986e-05"
      ]
     },
     "execution_count": 3,
     "metadata": {},
     "output_type": "execute_result"
    }
   ],
   "source": [
    "#less than 20 minutes\n",
    "z=(20-68)/12\n",
    "stats.norm.cdf(z)"
   ]
  },
  {
   "cell_type": "code",
   "execution_count": 4,
   "metadata": {},
   "outputs": [
    {
     "data": {
      "text/plain": [
       "0.9293624181635521"
      ]
     },
     "execution_count": 4,
     "metadata": {},
     "output_type": "execute_result"
    }
   ],
   "source": [
    "#between 50 minutes and 100 minutes\n",
    "z1 = (50-68)/12\n",
    "z2 = (100-68)/12\n",
    "stats.norm.cdf(z2)-stats.norm.cdf(z1)"
   ]
  },
  {
   "cell_type": "code",
   "execution_count": null,
   "metadata": {},
   "outputs": [],
   "source": []
  },
  {
   "cell_type": "markdown",
   "metadata": {
    "colab_type": "text",
    "id": "ycGUoMqNqDV8"
   },
   "source": [
    "### EXERCISE"
   ]
  },
  {
   "cell_type": "markdown",
   "metadata": {
    "colab_type": "text",
    "id": "cBZVW3HNqDV9"
   },
   "source": [
    "The mean salaries of Data Scientists working in Chennai, India is calculated to be 7,00,000 INR with a standard deviation of 90,000 INR. The random variable salary of Data Scientists follows a normal distribution.\n",
    "\n",
    "* a) What is the probability that a Data Scientist in Chennai has a salary more than 10,00,000 INR?\n",
    "* b) What is the probability that a Data Scientist in Chennai has a salary between 6,00,000 & 9,00,000 INR?\n",
    "* c) What is the probability that a Data Scientist in Chennai has a salary less than 4,00,000 INR?"
   ]
  },
  {
   "cell_type": "code",
   "execution_count": 5,
   "metadata": {},
   "outputs": [
    {
     "data": {
      "text/plain": [
       "3.3333333333333335"
      ]
     },
     "execution_count": 5,
     "metadata": {},
     "output_type": "execute_result"
    }
   ],
   "source": [
    "# Write code here\n",
    "z = (1000000-700000)/90000\n",
    "z"
   ]
  },
  {
   "cell_type": "code",
   "execution_count": 6,
   "metadata": {},
   "outputs": [
    {
     "data": {
      "text/plain": [
       "0.0004290603331967846"
      ]
     },
     "execution_count": 6,
     "metadata": {},
     "output_type": "execute_result"
    }
   ],
   "source": [
    "#more than 10,00,000\n",
    "1-stats.norm.cdf(z)"
   ]
  },
  {
   "cell_type": "code",
   "execution_count": 7,
   "metadata": {},
   "outputs": [
    {
     "data": {
      "text/plain": [
       "0.8536055914064735"
      ]
     },
     "execution_count": 7,
     "metadata": {},
     "output_type": "execute_result"
    }
   ],
   "source": [
    "#probability that a Data Scientist in Chennai has a salary between 6,00,000 & 9,00,000\n",
    "z1 = (600000-700000)/90000\n",
    "z2 = (900000-700000)/90000\n",
    "(stats.norm.cdf(z2)-stats.norm.cdf(z1))"
   ]
  },
  {
   "cell_type": "code",
   "execution_count": 8,
   "metadata": {},
   "outputs": [
    {
     "data": {
      "text/plain": [
       "0.0004290603331968372"
      ]
     },
     "execution_count": 8,
     "metadata": {},
     "output_type": "execute_result"
    }
   ],
   "source": [
    "# probability that a Data Scientist in Chennai has a salary less than 4,00,000\n",
    "z = (400000-700000)/90000\n",
    "stats.norm.cdf(z)"
   ]
  },
  {
   "cell_type": "markdown",
   "metadata": {
    "colab_type": "text",
    "id": "zwhvV7YhqDWF"
   },
   "source": [
    "### EXERCISE"
   ]
  },
  {
   "cell_type": "markdown",
   "metadata": {
    "colab_type": "text",
    "id": "ngNEUlSmqDWG"
   },
   "source": [
    "The fill amount in 2-liter soft drink bottles is normally distributed, with a mean of 2.0 liters and a standard deviation of 0.05 liter. If the bottles contain less than 95% of the listed net content (1.90 liters, in our case), the manufacturer may be subject to penalty by the state office of consumer affairs. Bottles that have a net content above 2.1 liters may cause excess spillage upon opening. What is the proportion of bottles that will contain\n",
    "\n",
    "* a) between 1.9 and 2.0 liters\n",
    "* b) between 1.9 and 2.1 liters\n",
    "* c) below 1.9 liters or above 2.1 liters\n",
    "* d) At least how much soft drink is contained in 99% of the bottles?"
   ]
  },
  {
   "cell_type": "code",
   "execution_count": 9,
   "metadata": {},
   "outputs": [
    {
     "data": {
      "text/plain": [
       "0.4772498680518209"
      ]
     },
     "execution_count": 9,
     "metadata": {},
     "output_type": "execute_result"
    }
   ],
   "source": [
    "# Write code here\n",
    "#between 1.9 and 2.0 liters\n",
    "z1 = (1.9-2.0)/0.05\n",
    "z2 = (2.0-2.0)/0.05\n",
    "stats.norm.cdf(z2)-stats.norm.cdf(z1)"
   ]
  },
  {
   "cell_type": "code",
   "execution_count": 10,
   "metadata": {},
   "outputs": [
    {
     "data": {
      "text/plain": [
       "0.9544997361036418"
      ]
     },
     "execution_count": 10,
     "metadata": {},
     "output_type": "execute_result"
    }
   ],
   "source": [
    "#between 1.9 and 2.1 liters\n",
    "z1 = (1.9-2.0)/0.05\n",
    "z2 = (2.1-2.0)/0.05\n",
    "stats.norm.cdf(z2)-stats.norm.cdf(z1)"
   ]
  },
  {
   "cell_type": "code",
   "execution_count": 11,
   "metadata": {
    "scrolled": true
   },
   "outputs": [
    {
     "data": {
      "text/plain": [
       "0.045500263896358195"
      ]
     },
     "execution_count": 11,
     "metadata": {},
     "output_type": "execute_result"
    }
   ],
   "source": [
    "#below 1.9 liters or above 2.1 liters\n",
    "z1 = (1.9-2.0)/0.05\n",
    "z2 = (2.1-2.0)/0.05\n",
    "stats.norm.cdf(z1)+(1-stats.norm.cdf(z2))"
   ]
  },
  {
   "cell_type": "code",
   "execution_count": 12,
   "metadata": {
    "scrolled": true
   },
   "outputs": [
    {
     "data": {
      "text/plain": [
       "2.116317393702042"
      ]
     },
     "execution_count": 12,
     "metadata": {},
     "output_type": "execute_result"
    }
   ],
   "source": [
    "#At least how much soft drink is contained in 99% of the bottles?\n",
    "z = -stats.norm.isf(0.99)\n",
    "2.0 + z*0.05"
   ]
  },
  {
   "cell_type": "code",
   "execution_count": null,
   "metadata": {},
   "outputs": [],
   "source": []
  }
 ],
 "metadata": {
  "colab": {
   "name": "day1_Statistics.ipynb",
   "provenance": [],
   "version": "0.3.2"
  },
  "kernelspec": {
   "display_name": "Python 3",
   "language": "python",
   "name": "python3"
  },
  "language_info": {
   "codemirror_mode": {
    "name": "ipython",
    "version": 3
   },
   "file_extension": ".py",
   "mimetype": "text/x-python",
   "name": "python",
   "nbconvert_exporter": "python",
   "pygments_lexer": "ipython3",
   "version": "3.7.7"
  }
 },
 "nbformat": 4,
 "nbformat_minor": 1
}
